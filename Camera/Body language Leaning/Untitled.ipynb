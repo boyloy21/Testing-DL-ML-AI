{
 "cells": [
  {
   "cell_type": "code",
   "execution_count": 7,
   "id": "0e42f595",
   "metadata": {},
   "outputs": [
    {
     "name": "stdout",
     "output_type": "stream",
     "text": [
      "Found existing installation: mediapipe 0.10.11\n",
      "Uninstalling mediapipe-0.10.11:\n",
      "  Successfully uninstalled mediapipe-0.10.11\n"
     ]
    }
   ],
   "source": [
    "\n",
    "!pip uninstall mediapipe -y\n"
   ]
  },
  {
   "cell_type": "code",
   "execution_count": 12,
   "id": "746cad1a",
   "metadata": {},
   "outputs": [
    {
     "name": "stdout",
     "output_type": "stream",
     "text": [
      "Collecting mediapipe==0.10.11\n",
      "  Using cached mediapipe-0.10.11-cp38-cp38-manylinux_2_17_x86_64.manylinux2014_x86_64.whl (35.6 MB)\n",
      "Requirement already satisfied: matplotlib in /usr/lib/python3/dist-packages (from mediapipe==0.10.11) (3.1.2)\n",
      "Requirement already satisfied: opencv-contrib-python in /home/chheanyun/.local/lib/python3.8/site-packages (from mediapipe==0.10.11) (4.10.0.84)\n",
      "Requirement already satisfied: sounddevice>=0.4.4 in /home/chheanyun/.local/lib/python3.8/site-packages (from mediapipe==0.10.11) (0.5.0)\n",
      "Requirement already satisfied: numpy in /home/chheanyun/.local/lib/python3.8/site-packages (from mediapipe==0.10.11) (1.24.4)\n",
      "Requirement already satisfied: attrs>=19.1.0 in /home/chheanyun/.local/lib/python3.8/site-packages (from mediapipe==0.10.11) (24.2.0)\n",
      "Requirement already satisfied: absl-py in /home/chheanyun/.local/lib/python3.8/site-packages (from mediapipe==0.10.11) (0.15.0)\n",
      "Requirement already satisfied: protobuf<4,>=3.11 in /home/chheanyun/.local/lib/python3.8/site-packages (from mediapipe==0.10.11) (3.20.3)\n",
      "Requirement already satisfied: jax in /home/chheanyun/.local/lib/python3.8/site-packages (from mediapipe==0.10.11) (0.4.13)\n",
      "Requirement already satisfied: flatbuffers>=2.0 in /home/chheanyun/.local/lib/python3.8/site-packages (from mediapipe==0.10.11) (24.3.25)\n",
      "Requirement already satisfied: torch in /home/chheanyun/.local/lib/python3.8/site-packages (from mediapipe==0.10.11) (2.4.0)\n",
      "Requirement already satisfied: jaxlib in /home/chheanyun/.local/lib/python3.8/site-packages (from mediapipe==0.10.11) (0.4.13)\n",
      "Requirement already satisfied: CFFI>=1.0 in /home/chheanyun/.local/lib/python3.8/site-packages (from sounddevice>=0.4.4->mediapipe==0.10.11) (1.17.0)\n",
      "Requirement already satisfied: six in /home/chheanyun/.local/lib/python3.8/site-packages (from absl-py->mediapipe==0.10.11) (1.15.0)\n",
      "Requirement already satisfied: importlib-metadata>=4.6; python_version < \"3.10\" in /home/chheanyun/.local/lib/python3.8/site-packages (from jax->mediapipe==0.10.11) (8.4.0)\n",
      "Requirement already satisfied: scipy>=1.7 in /home/chheanyun/.local/lib/python3.8/site-packages (from jax->mediapipe==0.10.11) (1.10.1)\n",
      "Requirement already satisfied: opt-einsum in /home/chheanyun/.local/lib/python3.8/site-packages (from jax->mediapipe==0.10.11) (3.3.0)\n",
      "Requirement already satisfied: ml-dtypes>=0.1.0 in /home/chheanyun/.local/lib/python3.8/site-packages (from jax->mediapipe==0.10.11) (0.2.0)\n",
      "Requirement already satisfied: triton==3.0.0; platform_system == \"Linux\" and platform_machine == \"x86_64\" and python_version < \"3.13\" in /home/chheanyun/.local/lib/python3.8/site-packages (from torch->mediapipe==0.10.11) (3.0.0)\n",
      "Requirement already satisfied: nvidia-cuda-runtime-cu12==12.1.105; platform_system == \"Linux\" and platform_machine == \"x86_64\" in /home/chheanyun/.local/lib/python3.8/site-packages (from torch->mediapipe==0.10.11) (12.1.105)\n",
      "Requirement already satisfied: networkx in /home/chheanyun/.local/lib/python3.8/site-packages (from torch->mediapipe==0.10.11) (3.1)\n",
      "Requirement already satisfied: jinja2 in /home/chheanyun/.local/lib/python3.8/site-packages (from torch->mediapipe==0.10.11) (3.1.4)\n",
      "Requirement already satisfied: nvidia-cuda-nvrtc-cu12==12.1.105; platform_system == \"Linux\" and platform_machine == \"x86_64\" in /home/chheanyun/.local/lib/python3.8/site-packages (from torch->mediapipe==0.10.11) (12.1.105)\n",
      "Requirement already satisfied: typing-extensions>=4.8.0 in /home/chheanyun/.local/lib/python3.8/site-packages (from torch->mediapipe==0.10.11) (4.12.2)\n",
      "Requirement already satisfied: nvidia-nvtx-cu12==12.1.105; platform_system == \"Linux\" and platform_machine == \"x86_64\" in /home/chheanyun/.local/lib/python3.8/site-packages (from torch->mediapipe==0.10.11) (12.1.105)\n",
      "Requirement already satisfied: sympy in /home/chheanyun/.local/lib/python3.8/site-packages (from torch->mediapipe==0.10.11) (1.13.1)\n",
      "Requirement already satisfied: nvidia-cusparse-cu12==12.1.0.106; platform_system == \"Linux\" and platform_machine == \"x86_64\" in /home/chheanyun/.local/lib/python3.8/site-packages (from torch->mediapipe==0.10.11) (12.1.0.106)\n",
      "Requirement already satisfied: nvidia-cufft-cu12==11.0.2.54; platform_system == \"Linux\" and platform_machine == \"x86_64\" in /home/chheanyun/.local/lib/python3.8/site-packages (from torch->mediapipe==0.10.11) (11.0.2.54)\n",
      "Requirement already satisfied: nvidia-cuda-cupti-cu12==12.1.105; platform_system == \"Linux\" and platform_machine == \"x86_64\" in /home/chheanyun/.local/lib/python3.8/site-packages (from torch->mediapipe==0.10.11) (12.1.105)\n",
      "Requirement already satisfied: fsspec in /home/chheanyun/.local/lib/python3.8/site-packages (from torch->mediapipe==0.10.11) (2024.6.1)\n",
      "Requirement already satisfied: nvidia-curand-cu12==10.3.2.106; platform_system == \"Linux\" and platform_machine == \"x86_64\" in /home/chheanyun/.local/lib/python3.8/site-packages (from torch->mediapipe==0.10.11) (10.3.2.106)\n",
      "Requirement already satisfied: nvidia-nccl-cu12==2.20.5; platform_system == \"Linux\" and platform_machine == \"x86_64\" in /home/chheanyun/.local/lib/python3.8/site-packages (from torch->mediapipe==0.10.11) (2.20.5)\n",
      "Requirement already satisfied: nvidia-cudnn-cu12==9.1.0.70; platform_system == \"Linux\" and platform_machine == \"x86_64\" in /home/chheanyun/.local/lib/python3.8/site-packages (from torch->mediapipe==0.10.11) (9.1.0.70)\n",
      "Requirement already satisfied: nvidia-cublas-cu12==12.1.3.1; platform_system == \"Linux\" and platform_machine == \"x86_64\" in /home/chheanyun/.local/lib/python3.8/site-packages (from torch->mediapipe==0.10.11) (12.1.3.1)\n",
      "Requirement already satisfied: nvidia-cusolver-cu12==11.4.5.107; platform_system == \"Linux\" and platform_machine == \"x86_64\" in /home/chheanyun/.local/lib/python3.8/site-packages (from torch->mediapipe==0.10.11) (11.4.5.107)\n",
      "Requirement already satisfied: filelock in /home/chheanyun/.local/lib/python3.8/site-packages (from torch->mediapipe==0.10.11) (3.15.4)\n",
      "Requirement already satisfied: pycparser in /home/chheanyun/.local/lib/python3.8/site-packages (from CFFI>=1.0->sounddevice>=0.4.4->mediapipe==0.10.11) (2.22)\n",
      "Requirement already satisfied: zipp>=0.5 in /home/chheanyun/.local/lib/python3.8/site-packages (from importlib-metadata>=4.6; python_version < \"3.10\"->jax->mediapipe==0.10.11) (3.20.1)\n",
      "Requirement already satisfied: MarkupSafe>=2.0 in /home/chheanyun/.local/lib/python3.8/site-packages (from jinja2->torch->mediapipe==0.10.11) (2.1.5)\n",
      "Requirement already satisfied: mpmath<1.4,>=1.1.0 in /home/chheanyun/.local/lib/python3.8/site-packages (from sympy->torch->mediapipe==0.10.11) (1.3.0)\n",
      "Requirement already satisfied: nvidia-nvjitlink-cu12 in /home/chheanyun/.local/lib/python3.8/site-packages (from nvidia-cusparse-cu12==12.1.0.106; platform_system == \"Linux\" and platform_machine == \"x86_64\"->torch->mediapipe==0.10.11) (12.6.20)\n",
      "Installing collected packages: mediapipe\n",
      "Successfully installed mediapipe-0.10.11\n"
     ]
    }
   ],
   "source": [
    "!pip install mediapipe==0.10.11\n"
   ]
  },
  {
   "cell_type": "code",
   "execution_count": 17,
   "id": "b790f2f6",
   "metadata": {},
   "outputs": [
    {
     "ename": "NameError",
     "evalue": "name 'framework' is not defined",
     "output_type": "error",
     "traceback": [
      "\u001b[0;31m---------------------------------------------------------------------------\u001b[0m",
      "\u001b[0;31mNameError\u001b[0m                                 Traceback (most recent call last)",
      "\u001b[0;32m<ipython-input-17-274990abfe03>\u001b[0m in \u001b[0;36m<module>\u001b[0;34m\u001b[0m\n\u001b[1;32m      4\u001b[0m \u001b[0;32mfrom\u001b[0m \u001b[0mmatplotlib\u001b[0m \u001b[0;32mimport\u001b[0m \u001b[0mpyplot\u001b[0m \u001b[0;32mas\u001b[0m \u001b[0mplt\u001b[0m\u001b[0;34m\u001b[0m\u001b[0;34m\u001b[0m\u001b[0m\n\u001b[1;32m      5\u001b[0m \u001b[0;32mimport\u001b[0m \u001b[0mtime\u001b[0m\u001b[0;34m\u001b[0m\u001b[0;34m\u001b[0m\u001b[0m\n\u001b[0;32m----> 6\u001b[0;31m \u001b[0;32mimport\u001b[0m \u001b[0mmediapipe\u001b[0m\u001b[0;34m.\u001b[0m\u001b[0mtasks\u001b[0m\u001b[0;34m.\u001b[0m\u001b[0mpython\u001b[0m \u001b[0;32mas\u001b[0m \u001b[0mtasks\u001b[0m\u001b[0;34m\u001b[0m\u001b[0;34m\u001b[0m\u001b[0m\n\u001b[0m",
      "\u001b[0;32m~/.local/lib/python3.8/site-packages/mediapipe/tasks/python/__init__.py\u001b[0m in \u001b[0;36m<module>\u001b[0;34m\u001b[0m\n\u001b[1;32m     15\u001b[0m \u001b[0;34m\"\"\"MediaPipe Tasks API.\"\"\"\u001b[0m\u001b[0;34m\u001b[0m\u001b[0;34m\u001b[0m\u001b[0m\n\u001b[1;32m     16\u001b[0m \u001b[0;34m\u001b[0m\u001b[0m\n\u001b[0;32m---> 17\u001b[0;31m \u001b[0;32mfrom\u001b[0m \u001b[0;34m.\u001b[0m \u001b[0;32mimport\u001b[0m \u001b[0maudio\u001b[0m\u001b[0;34m\u001b[0m\u001b[0;34m\u001b[0m\u001b[0m\n\u001b[0m\u001b[1;32m     18\u001b[0m \u001b[0;32mfrom\u001b[0m \u001b[0;34m.\u001b[0m \u001b[0;32mimport\u001b[0m \u001b[0mcomponents\u001b[0m\u001b[0;34m\u001b[0m\u001b[0;34m\u001b[0m\u001b[0m\n\u001b[1;32m     19\u001b[0m \u001b[0;32mfrom\u001b[0m \u001b[0;34m.\u001b[0m \u001b[0;32mimport\u001b[0m \u001b[0mcore\u001b[0m\u001b[0;34m\u001b[0m\u001b[0;34m\u001b[0m\u001b[0m\n",
      "\u001b[0;32m~/.local/lib/python3.8/site-packages/mediapipe/tasks/python/audio/__init__.py\u001b[0m in \u001b[0;36m<module>\u001b[0;34m\u001b[0m\n\u001b[1;32m     15\u001b[0m \u001b[0;34m\"\"\"MediaPipe Tasks Audio API.\"\"\"\u001b[0m\u001b[0;34m\u001b[0m\u001b[0;34m\u001b[0m\u001b[0m\n\u001b[1;32m     16\u001b[0m \u001b[0;34m\u001b[0m\u001b[0m\n\u001b[0;32m---> 17\u001b[0;31m \u001b[0;32mimport\u001b[0m \u001b[0mmediapipe\u001b[0m\u001b[0;34m.\u001b[0m\u001b[0mtasks\u001b[0m\u001b[0;34m.\u001b[0m\u001b[0mpython\u001b[0m\u001b[0;34m.\u001b[0m\u001b[0maudio\u001b[0m\u001b[0;34m.\u001b[0m\u001b[0mcore\u001b[0m\u001b[0;34m\u001b[0m\u001b[0;34m\u001b[0m\u001b[0m\n\u001b[0m\u001b[1;32m     18\u001b[0m \u001b[0;32mimport\u001b[0m \u001b[0mmediapipe\u001b[0m\u001b[0;34m.\u001b[0m\u001b[0mtasks\u001b[0m\u001b[0;34m.\u001b[0m\u001b[0mpython\u001b[0m\u001b[0;34m.\u001b[0m\u001b[0maudio\u001b[0m\u001b[0;34m.\u001b[0m\u001b[0maudio_classifier\u001b[0m\u001b[0;34m\u001b[0m\u001b[0;34m\u001b[0m\u001b[0m\n\u001b[1;32m     19\u001b[0m \u001b[0;32mimport\u001b[0m \u001b[0mmediapipe\u001b[0m\u001b[0;34m.\u001b[0m\u001b[0mtasks\u001b[0m\u001b[0;34m.\u001b[0m\u001b[0mpython\u001b[0m\u001b[0;34m.\u001b[0m\u001b[0maudio\u001b[0m\u001b[0;34m.\u001b[0m\u001b[0maudio_embedder\u001b[0m\u001b[0;34m\u001b[0m\u001b[0;34m\u001b[0m\u001b[0m\n",
      "\u001b[0;32m~/.local/lib/python3.8/site-packages/mediapipe/__init__.py\u001b[0m in \u001b[0;36m<module>\u001b[0;34m\u001b[0m\n\u001b[1;32m     18\u001b[0m \u001b[0;34m\u001b[0m\u001b[0m\n\u001b[1;32m     19\u001b[0m \u001b[0;34m\u001b[0m\u001b[0m\n\u001b[0;32m---> 20\u001b[0;31m \u001b[0;32mdel\u001b[0m \u001b[0mframework\u001b[0m\u001b[0;34m\u001b[0m\u001b[0;34m\u001b[0m\u001b[0m\n\u001b[0m\u001b[1;32m     21\u001b[0m \u001b[0;32mdel\u001b[0m \u001b[0mgpu\u001b[0m\u001b[0;34m\u001b[0m\u001b[0;34m\u001b[0m\u001b[0m\n\u001b[1;32m     22\u001b[0m \u001b[0;32mdel\u001b[0m \u001b[0mmodules\u001b[0m\u001b[0;34m\u001b[0m\u001b[0;34m\u001b[0m\u001b[0m\n",
      "\u001b[0;31mNameError\u001b[0m: name 'framework' is not defined"
     ]
    }
   ],
   "source": [
    "import cv2\n",
    "import numpy as np\n",
    "import os\n",
    "from matplotlib import pyplot as plt\n",
    "import time\n",
    "import mediapipe.tasks.python as tasks\n"
   ]
  },
  {
   "cell_type": "code",
   "execution_count": 14,
   "id": "42239d52",
   "metadata": {},
   "outputs": [
    {
     "ename": "NameError",
     "evalue": "name 'mp' is not defined",
     "output_type": "error",
     "traceback": [
      "\u001b[0;31m---------------------------------------------------------------------------\u001b[0m",
      "\u001b[0;31mNameError\u001b[0m                                 Traceback (most recent call last)",
      "\u001b[0;32m<ipython-input-14-ed3cc8ffcfcb>\u001b[0m in \u001b[0;36m<module>\u001b[0;34m\u001b[0m\n\u001b[0;32m----> 1\u001b[0;31m \u001b[0mmp_hands\u001b[0m \u001b[0;34m=\u001b[0m \u001b[0mmp\u001b[0m\u001b[0;34m.\u001b[0m\u001b[0msolutions\u001b[0m\u001b[0;34m.\u001b[0m\u001b[0mhands\u001b[0m\u001b[0;34m\u001b[0m\u001b[0;34m\u001b[0m\u001b[0m\n\u001b[0m\u001b[1;32m      2\u001b[0m \u001b[0mmp_drawing\u001b[0m \u001b[0;34m=\u001b[0m \u001b[0mmp\u001b[0m\u001b[0;34m.\u001b[0m\u001b[0msolutions\u001b[0m\u001b[0;34m.\u001b[0m\u001b[0mdrawing_utils\u001b[0m\u001b[0;34m\u001b[0m\u001b[0;34m\u001b[0m\u001b[0m\n",
      "\u001b[0;31mNameError\u001b[0m: name 'mp' is not defined"
     ]
    }
   ],
   "source": [
    "mp_hands = mp.solutions.hands\n",
    "mp_drawing = mp.solutions.drawing_utils"
   ]
  },
  {
   "cell_type": "code",
   "execution_count": null,
   "id": "4b7b6301",
   "metadata": {},
   "outputs": [],
   "source": []
  }
 ],
 "metadata": {
  "kernelspec": {
   "display_name": "Python 3",
   "language": "python",
   "name": "python3"
  },
  "language_info": {
   "codemirror_mode": {
    "name": "ipython",
    "version": 3
   },
   "file_extension": ".py",
   "mimetype": "text/x-python",
   "name": "python",
   "nbconvert_exporter": "python",
   "pygments_lexer": "ipython3",
   "version": "3.8.10"
  }
 },
 "nbformat": 4,
 "nbformat_minor": 5
}
