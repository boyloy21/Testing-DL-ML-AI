{
 "cells": [
  {
   "cell_type": "markdown",
   "id": "f0c72719",
   "metadata": {},
   "source": [
    "## Linear Algebra with Scipy and NumPy"
   ]
  },
  {
   "cell_type": "code",
   "execution_count": 10,
   "id": "c093ceab",
   "metadata": {},
   "outputs": [
    {
     "data": {
      "text/plain": [
       "array([2, 6])"
      ]
     },
     "execution_count": 10,
     "metadata": {},
     "output_type": "execute_result"
    }
   ],
   "source": [
    "import numpy as np\n",
    "from scipy import linalg\n",
    "a=np.array([1,2])\n",
    "b=np.array([2,3])\n",
    "c=a*b\n",
    "c"
   ]
  },
  {
   "cell_type": "code",
   "execution_count": null,
   "id": "cccf5b0e",
   "metadata": {},
   "outputs": [],
   "source": []
  },
  {
   "cell_type": "markdown",
   "id": "80480d11",
   "metadata": {},
   "source": [
    "### Find inverse Matrix"
   ]
  },
  {
   "cell_type": "code",
   "execution_count": 9,
   "id": "02942795",
   "metadata": {},
   "outputs": [
    {
     "data": {
      "text/plain": [
       "array([[1, 2],\n",
       "       [3, 4]])"
      ]
     },
     "execution_count": 9,
     "metadata": {},
     "output_type": "execute_result"
    }
   ],
   "source": [
    "import numpy as np\n",
    "A = np.array([[1, 2], [3, 4]])\n",
    "A"
   ]
  },
  {
   "cell_type": "code",
   "execution_count": 10,
   "id": "2d028c94",
   "metadata": {},
   "outputs": [
    {
     "data": {
      "text/plain": [
       "array([[-2. ,  1. ],\n",
       "       [ 1.5, -0.5]])"
      ]
     },
     "execution_count": 10,
     "metadata": {},
     "output_type": "execute_result"
    }
   ],
   "source": [
    "from scipy import linalg\n",
    "A_inv = linalg.inv(A)\n",
    "A_inv"
   ]
  },
  {
   "cell_type": "code",
   "execution_count": 11,
   "id": "2ea97f60",
   "metadata": {},
   "outputs": [
    {
     "data": {
      "text/plain": [
       "array([[1, 3],\n",
       "       [2, 4]])"
      ]
     },
     "execution_count": 11,
     "metadata": {},
     "output_type": "execute_result"
    }
   ],
   "source": [
    "from scipy import linalg\n",
    "import numpy as np\n",
    "A = np.array([[1, 2], [3, 4]])\n",
    "b_transpose = A.T\n",
    "b_transpose"
   ]
  },
  {
   "cell_type": "code",
   "execution_count": 5,
   "id": "1cb985bb",
   "metadata": {},
   "outputs": [
    {
     "data": {
      "text/plain": [
       "array([[ 1,  6],\n",
       "       [ 6, 16]])"
      ]
     },
     "execution_count": 5,
     "metadata": {},
     "output_type": "execute_result"
    }
   ],
   "source": [
    "A*b_transpose"
   ]
  },
  {
   "cell_type": "code",
   "execution_count": 3,
   "id": "6fb4b38b",
   "metadata": {},
   "outputs": [
    {
     "data": {
      "text/plain": [
       "array([[ 5, 11],\n",
       "       [11, 25]])"
      ]
     },
     "execution_count": 3,
     "metadata": {},
     "output_type": "execute_result"
    }
   ],
   "source": [
    "import numpy as np\n",
    "from scipy import linalg\n",
    "A = np.array([[1, 2], [3, 4]])\n",
    "b_transpose = A.T\n",
    "A@b_transpose"
   ]
  },
  {
   "cell_type": "markdown",
   "id": "b4a97e83",
   "metadata": {},
   "source": [
    "<img src=\"figure/linear_eq.png\" >"
   ]
  },
  {
   "cell_type": "code",
   "execution_count": 11,
   "id": "5e2ff5c9",
   "metadata": {},
   "outputs": [],
   "source": [
    "A = np.array([\n",
    "    [1, 3, 5],\n",
    "    [2, 5, 1],\n",
    "    [2, 3, 8]\n",
    "])\n",
    "b = np.array([10, 8, 3])"
   ]
  },
  {
   "cell_type": "code",
   "execution_count": 12,
   "id": "ad45a1b4",
   "metadata": {},
   "outputs": [
    {
     "data": {
      "text/plain": [
       "array([-9.28,  5.16,  0.76])"
      ]
     },
     "execution_count": 12,
     "metadata": {},
     "output_type": "execute_result"
    }
   ],
   "source": [
    "linalg.inv(A).dot(b)"
   ]
  },
  {
   "cell_type": "code",
   "execution_count": 13,
   "id": "afcf90bf",
   "metadata": {},
   "outputs": [
    {
     "data": {
      "text/plain": [
       "array([-9.28,  5.16,  0.76])"
      ]
     },
     "execution_count": 13,
     "metadata": {},
     "output_type": "execute_result"
    }
   ],
   "source": [
    "linalg.solve(A, b)"
   ]
  },
  {
   "cell_type": "markdown",
   "id": "52e5fb8c",
   "metadata": {},
   "source": [
    "### Finding the determinant\n",
    "\n",
    "We have square matrix $A$, then its determinant is $M_{ij}=|A_{ij}|$. For the general form\n",
    "\\begin{equation}\n",
    "    |A|=\\sum_{j}(-1)^{i+j}a_{ij}M_{ij}\n",
    "\\end{equation}. <br>\n",
    "\n",
    "For example, we have \\begin{equation}\n",
    "    A = \\begin{bmatrix} 1 & 3 & 5 \\\\ 2 & 5 & 1 \\\\ 2 & 3 & 8 \\end{bmatrix}\n",
    "\\end{equation}"
   ]
  },
  {
   "cell_type": "code",
   "execution_count": 9,
   "id": "1f366534",
   "metadata": {},
   "outputs": [
    {
     "data": {
      "text/plain": [
       "array([[1, 3, 5],\n",
       "       [2, 5, 1],\n",
       "       [2, 3, 8]])"
      ]
     },
     "execution_count": 9,
     "metadata": {},
     "output_type": "execute_result"
    }
   ],
   "source": [
    "A = np.array([\n",
    "    [1, 3, 5],\n",
    "    [2, 5, 1],\n",
    "    [2, 3, 8]\n",
    "])\n",
    "A"
   ]
  },
  {
   "cell_type": "code",
   "execution_count": 10,
   "id": "b0f2bc98",
   "metadata": {},
   "outputs": [
    {
     "data": {
      "text/plain": [
       "-25.000000000000004"
      ]
     },
     "execution_count": 10,
     "metadata": {},
     "output_type": "execute_result"
    }
   ],
   "source": [
    "A_det = linalg.det(A)\n",
    "A_det"
   ]
  },
  {
   "cell_type": "markdown",
   "id": "6cb1e3eb",
   "metadata": {},
   "source": [
    "### Computing Norms\n",
    "\n",
    "<img src=\"figure/norm.png\">"
   ]
  },
  {
   "cell_type": "code",
   "execution_count": 14,
   "id": "cc521dc5",
   "metadata": {},
   "outputs": [],
   "source": [
    "A = np.array([\n",
    "    [1, 3, 5],\n",
    "    [2, 5, 1],\n",
    "    [2, 3, 8]\n",
    "])"
   ]
  },
  {
   "cell_type": "code",
   "execution_count": 17,
   "id": "805ecda5",
   "metadata": {},
   "outputs": [
    {
     "data": {
      "text/plain": [
       "14.0"
      ]
     },
     "execution_count": 17,
     "metadata": {},
     "output_type": "execute_result"
    }
   ],
   "source": [
    "linalg.norm(A, 1) ## ord 1 or absolute norm"
   ]
  },
  {
   "cell_type": "code",
   "execution_count": 16,
   "id": "bc184312",
   "metadata": {},
   "outputs": [
    {
     "data": {
      "text/plain": [
       "11.133851342531154"
      ]
     },
     "execution_count": 16,
     "metadata": {},
     "output_type": "execute_result"
    }
   ],
   "source": [
    "linalg.norm(A, 2) ## ord 2 or Euclidean norm"
   ]
  },
  {
   "cell_type": "code",
   "execution_count": 18,
   "id": "ae2c9950",
   "metadata": {},
   "outputs": [
    {
     "data": {
      "text/plain": [
       "11.916375287812984"
      ]
     },
     "execution_count": 18,
     "metadata": {},
     "output_type": "execute_result"
    }
   ],
   "source": [
    "linalg.norm(A, 'fro') ## Frobenius norm by default"
   ]
  },
  {
   "cell_type": "code",
   "execution_count": 19,
   "id": "cf691e05",
   "metadata": {},
   "outputs": [
    {
     "data": {
      "text/plain": [
       "13.0"
      ]
     },
     "execution_count": 19,
     "metadata": {},
     "output_type": "execute_result"
    }
   ],
   "source": [
    "linalg.norm(A, np.inf) ## ord=inf "
   ]
  },
  {
   "cell_type": "markdown",
   "id": "6ff34fb5",
   "metadata": {},
   "source": [
    "### Solving for EigenValues and EigenVectors\n",
    "<img src=\"figure/eigen1.png\">"
   ]
  },
  {
   "cell_type": "markdown",
   "id": "4ec41063",
   "metadata": {},
   "source": [
    "<img src=\"figure/eigen2.png\">"
   ]
  },
  {
   "cell_type": "code",
   "execution_count": 20,
   "id": "b5fb8db7",
   "metadata": {},
   "outputs": [],
   "source": [
    "A = np.array([\n",
    "    [1, 3, 5],\n",
    "    [2, 5, 1],\n",
    "    [2, 3, 8]\n",
    "])"
   ]
  },
  {
   "cell_type": "code",
   "execution_count": 21,
   "id": "0b7734cc",
   "metadata": {},
   "outputs": [],
   "source": [
    "la, v = linalg.eig(A)"
   ]
  },
  {
   "cell_type": "code",
   "execution_count": 22,
   "id": "41db3237",
   "metadata": {},
   "outputs": [
    {
     "data": {
      "text/plain": [
       "array([10.5540456 +0.j, -0.5873064 +0.j,  4.03326081+0.j])"
      ]
     },
     "execution_count": 22,
     "metadata": {},
     "output_type": "execute_result"
    }
   ],
   "source": [
    "la"
   ]
  },
  {
   "cell_type": "code",
   "execution_count": 23,
   "id": "18fd3d4f",
   "metadata": {},
   "outputs": [
    {
     "data": {
      "text/plain": [
       "array([[-0.51686204, -0.94195144,  0.11527992],\n",
       "       [-0.32845853,  0.31778071, -0.81936883],\n",
       "       [-0.79054957,  0.10836468,  0.56155611]])"
      ]
     },
     "execution_count": 23,
     "metadata": {},
     "output_type": "execute_result"
    }
   ],
   "source": [
    "v"
   ]
  },
  {
   "cell_type": "code",
   "execution_count": 24,
   "id": "ac5e0b2f",
   "metadata": {},
   "outputs": [],
   "source": [
    "l1, l2, l3 = la"
   ]
  },
  {
   "cell_type": "code",
   "execution_count": 25,
   "id": "07be3b9c",
   "metadata": {},
   "outputs": [
    {
     "data": {
      "text/plain": [
       "(10.5540455960959+0j)"
      ]
     },
     "execution_count": 25,
     "metadata": {},
     "output_type": "execute_result"
    }
   ],
   "source": [
    "l1"
   ]
  },
  {
   "cell_type": "code",
   "execution_count": 26,
   "id": "8ccf9517",
   "metadata": {},
   "outputs": [
    {
     "data": {
      "text/plain": [
       "(-0.5873064038673474+0j)"
      ]
     },
     "execution_count": 26,
     "metadata": {},
     "output_type": "execute_result"
    }
   ],
   "source": [
    "l2"
   ]
  },
  {
   "cell_type": "code",
   "execution_count": 27,
   "id": "fc4761d4",
   "metadata": {},
   "outputs": [
    {
     "data": {
      "text/plain": [
       "(4.03326080777145+0j)"
      ]
     },
     "execution_count": 27,
     "metadata": {},
     "output_type": "execute_result"
    }
   ],
   "source": [
    "l3"
   ]
  },
  {
   "cell_type": "code",
   "execution_count": 28,
   "id": "2b2c2481",
   "metadata": {},
   "outputs": [
    {
     "data": {
      "text/plain": [
       "array([1., 1., 1.])"
      ]
     },
     "execution_count": 28,
     "metadata": {},
     "output_type": "execute_result"
    }
   ],
   "source": [
    "np.sum(abs(v**2), axis=0)"
   ]
  },
  {
   "cell_type": "markdown",
   "id": "9893f8cb",
   "metadata": {},
   "source": [
    "### Singular Value Decomposition\n",
    "<img src=\"figure/svd.png\">"
   ]
  },
  {
   "cell_type": "code",
   "execution_count": 29,
   "id": "81e85306",
   "metadata": {},
   "outputs": [],
   "source": [
    "A = np.array([\n",
    "    [1, 2, 3],\n",
    "    [4, 5, 6],\n",
    "    [7, 8, 9],\n",
    "    [10, 11, 12]\n",
    "])"
   ]
  },
  {
   "cell_type": "code",
   "execution_count": 30,
   "id": "1b0b6627",
   "metadata": {},
   "outputs": [],
   "source": [
    "M, N = A.shape"
   ]
  },
  {
   "cell_type": "code",
   "execution_count": 31,
   "id": "b75bcfc7",
   "metadata": {},
   "outputs": [],
   "source": [
    "U, s, Vh = linalg.svd(A)"
   ]
  },
  {
   "cell_type": "code",
   "execution_count": 32,
   "id": "20e7365f",
   "metadata": {},
   "outputs": [
    {
     "data": {
      "text/plain": [
       "array([[-0.14087668, -0.82471435,  0.5377697 , -0.1039411 ],\n",
       "       [-0.34394629, -0.42626394, -0.63955314,  0.539418  ],\n",
       "       [-0.54701591, -0.02781353, -0.33420281, -0.7670127 ],\n",
       "       [-0.75008553,  0.37063688,  0.43598625,  0.3315358 ]])"
      ]
     },
     "execution_count": 32,
     "metadata": {},
     "output_type": "execute_result"
    }
   ],
   "source": [
    "U"
   ]
  },
  {
   "cell_type": "code",
   "execution_count": 33,
   "id": "9a4d4463",
   "metadata": {},
   "outputs": [
    {
     "data": {
      "text/plain": [
       "array([2.54624074e+01, 1.29066168e+00, 2.31173375e-15])"
      ]
     },
     "execution_count": 33,
     "metadata": {},
     "output_type": "execute_result"
    }
   ],
   "source": [
    "s"
   ]
  },
  {
   "cell_type": "code",
   "execution_count": 34,
   "id": "19c721b9",
   "metadata": {},
   "outputs": [
    {
     "data": {
      "text/plain": [
       "array([[-0.50453315, -0.5745157 , -0.64449826],\n",
       "       [ 0.76077568,  0.05714052, -0.64649464],\n",
       "       [-0.40824829,  0.81649658, -0.40824829]])"
      ]
     },
     "execution_count": 34,
     "metadata": {},
     "output_type": "execute_result"
    }
   ],
   "source": [
    "Vh"
   ]
  },
  {
   "cell_type": "code",
   "execution_count": 35,
   "id": "77cd13e3",
   "metadata": {},
   "outputs": [],
   "source": [
    "Sig = linalg.diagsvd(s, M, N)"
   ]
  },
  {
   "cell_type": "code",
   "execution_count": 36,
   "id": "c04f5101",
   "metadata": {},
   "outputs": [
    {
     "data": {
      "text/plain": [
       "array([[2.54624074e+01, 0.00000000e+00, 0.00000000e+00],\n",
       "       [0.00000000e+00, 1.29066168e+00, 0.00000000e+00],\n",
       "       [0.00000000e+00, 0.00000000e+00, 2.31173375e-15],\n",
       "       [0.00000000e+00, 0.00000000e+00, 0.00000000e+00]])"
      ]
     },
     "execution_count": 36,
     "metadata": {},
     "output_type": "execute_result"
    }
   ],
   "source": [
    "Sig"
   ]
  },
  {
   "cell_type": "code",
   "execution_count": 37,
   "id": "611c4505",
   "metadata": {},
   "outputs": [
    {
     "data": {
      "text/plain": [
       "array([[ 1.,  2.,  3.],\n",
       "       [ 4.,  5.,  6.],\n",
       "       [ 7.,  8.,  9.],\n",
       "       [10., 11., 12.]])"
      ]
     },
     "execution_count": 37,
     "metadata": {},
     "output_type": "execute_result"
    }
   ],
   "source": [
    "U.dot(Sig.dot(Vh))"
   ]
  },
  {
   "cell_type": "code",
   "execution_count": null,
   "id": "b3cf351f",
   "metadata": {},
   "outputs": [],
   "source": []
  }
 ],
 "metadata": {
  "kernelspec": {
   "display_name": "Python 3",
   "language": "python",
   "name": "python3"
  },
  "language_info": {
   "codemirror_mode": {
    "name": "ipython",
    "version": 3
   },
   "file_extension": ".py",
   "mimetype": "text/x-python",
   "name": "python",
   "nbconvert_exporter": "python",
   "pygments_lexer": "ipython3",
   "version": "3.8.10"
  }
 },
 "nbformat": 4,
 "nbformat_minor": 5
}
